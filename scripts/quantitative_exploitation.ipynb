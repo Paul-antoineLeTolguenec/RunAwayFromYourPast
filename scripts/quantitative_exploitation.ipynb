{
 "cells": [
  {
   "cell_type": "code",
   "execution_count": 3,
   "metadata": {},
   "outputs": [],
   "source": [
    "import wandb\n",
    "import pandas as pd\n",
    "import matplotlib.pyplot as plt\n",
    "import seaborn as sns\n",
    "import numpy as np\n",
    "import concurrent.futures\n",
    "from tqdm.notebook import tqdm\n",
    "\n",
    "\n",
    "# Authenticate with W&B\n",
    "wandb.login(timeout=1024)\n",
    "\n",
    "# Configure project and other parameters if necessary\n",
    "project_name = \"contrastive_exploration_reward_max\"\n",
    "entity = \"pletctj6\"\n",
    "\n",
    "# Retrieve the runs from the project\n",
    "api = wandb.Api()\n",
    "runs = api.runs(f\"{entity}/{project_name}\")\n",
    "\n",
    "# Initialize a list to store coverage and shannon entropy data\n",
    "experiments_data = {}"
   ]
  },
  {
   "cell_type": "markdown",
   "metadata": {},
   "source": [
    "### Downloading the data\n",
    "\n",
    "* config : config for the run\n",
    "* history : Time evolution of all the data recorded during the run as columns in a pandas dataframe\n",
    "* summary : last sample of the data recorded"
   ]
  },
  {
   "cell_type": "code",
   "execution_count": 4,
   "metadata": {},
   "outputs": [
    {
     "data": {
      "application/vnd.jupyter.widget-view+json": {
       "model_id": "ca36339dfe2043fb9214644bdd959151",
       "version_major": 2,
       "version_minor": 0
      },
      "text/plain": [
       "Processing runs:   0%|          | 0/623 [00:00<?, ?it/s]"
      ]
     },
     "metadata": {},
     "output_type": "display_data"
    },
    {
     "name": "stdout",
     "output_type": "stream",
     "text": [
      "Skipping run DMCS-Ball-in-cup-v0__ngu_ppo__2 because it doesn't have the necessary data.\n",
      "Skipping run Reacher-v4__icm_ppo__5 because it doesn't have the necessary data.\n",
      "Skipping run Reacher-v4__icm_ppo__3 because it doesn't have the necessary data.\n",
      "Skipping run Reacher-v4__icm_ppo__2 because it doesn't have the necessary data.\n",
      "Skipping run Reacher-v4__icm_ppo__4 because it doesn't have the necessary data.\n",
      "Skipping run Reacher-v4__icm_ppo__1 because it doesn't have the necessary data.\n",
      "Skipping run Reacher-v4__rnd_ppo__5 because it doesn't have the necessary data.\n",
      "Skipping run Reacher-v4__rnd_ppo__2 because it doesn't have the necessary data.\n",
      "Skipping run Reacher-v4__rnd_ppo__4 because it doesn't have the necessary data.\n",
      "Skipping run Reacher-v4__rnd_ppo__3 because it doesn't have the necessary data.\n",
      "Skipping run Reacher-v4__rnd_ppo__1 because it doesn't have the necessary data.\n",
      "Skipping run DMCS-Cart-k-Pole-v0__icm_ppo__1 because it doesn't have the necessary data.Skipping run HumanoidStandup-v4__ngu_ppo__2 because it doesn't have the necessary data.\n",
      "Skipping run HumanoidStandup-v4__ngu_ppo__3 because it doesn't have the necessary data.\n",
      "Skipping run HumanoidStandup-v4__ngu_ppo__4 because it doesn't have the necessary data.\n",
      "Skipping run Reacher-v4__aux_ppo__3 because it doesn't have the necessary data.\n",
      "Skipping run HumanoidStandup-v4__ngu_ppo__1 because it doesn't have the necessary data.\n",
      "Skipping run Reacher-v4__aux_ppo__1 because it doesn't have the necessary data.\n",
      "Skipping run Reacher-v4__aux_ppo__4 because it doesn't have the necessary data.\n",
      "Skipping run Reacher-v4__aux_ppo__2 because it doesn't have the necessary data.Skipping run Reacher-v4__aux_ppo__5 because it doesn't have the necessary data.\n"
     ]
    },
    {
     "name": "stderr",
     "output_type": "stream",
     "text": [
      "\u001b[34m\u001b[1mwandb\u001b[0m: \u001b[33mWARNING\u001b[0m A graphql request initiated by the public wandb API timed out (timeout=9 sec). Create a new API with an integer timeout larger than 9, e.g., `api = wandb.Api(timeout=19)` to increase the graphql timeout.\n",
      "\u001b[34m\u001b[1mwandb\u001b[0m: \u001b[33mWARNING\u001b[0m A graphql request initiated by the public wandb API timed out (timeout=9 sec). Create a new API with an integer timeout larger than 9, e.g., `api = wandb.Api(timeout=19)` to increase the graphql timeout.\n"
     ]
    },
    {
     "name": "stdout",
     "output_type": "stream",
     "text": [
      "Skipping run Reacher-v4__icm_ppo__3 because it doesn't have the necessary data.\n",
      "Skipping run Reacher-v4__icm_ppo__5 because it doesn't have the necessary data.\n",
      "Skipping run Reacher-v4__icm_ppo__2 because it doesn't have the necessary data.\n",
      "Skipping run Reacher-v4__icm_ppo__4 because it doesn't have the necessary data.\n",
      "Skipping run Reacher-v4__icm_ppo__1 because it doesn't have the necessary data.\n",
      "Skipping run DMCS-Cart-k-Pole-v0__icm_ppo__1 because it doesn't have the necessary data.\n",
      "Skipping run DMCS-Cart-k-Pole-v0__aux_ppo__1 because it doesn't have the necessary data.Skipping run Reacher-v4__aux_ppo__3 because it doesn't have the necessary data.\n",
      "Skipping run Reacher-v4__aux_ppo__1 because it doesn't have the necessary data.\n",
      "Skipping run Reacher-v4__aux_ppo__4 because it doesn't have the necessary data.\n",
      "Skipping run Reacher-v4__aux_ppo__2 because it doesn't have the necessary data.\n",
      "Skipping run Reacher-v4__aux_ppo__5 because it doesn't have the necessary data.\n"
     ]
    },
    {
     "name": "stderr",
     "output_type": "stream",
     "text": [
      "\u001b[34m\u001b[1mwandb\u001b[0m: \u001b[33mWARNING\u001b[0m A graphql request initiated by the public wandb API timed out (timeout=9 sec). Create a new API with an integer timeout larger than 9, e.g., `api = wandb.Api(timeout=19)` to increase the graphql timeout.\n"
     ]
    },
    {
     "name": "stdout",
     "output_type": "stream",
     "text": [
      "Skipping run Reacher-v4__apt_ppo__5 because it doesn't have the necessary data.Skipping run DMCS-Cart-k-Pole-v0__aux_ppo__1 because it doesn't have the necessary data.\n",
      "Skipping run Reacher-v4__apt_ppo__4 because it doesn't have the necessary data.\n",
      "Skipping run Reacher-v4__apt_ppo__1 because it doesn't have the necessary data.\n",
      "Skipping run Reacher-v4__apt_ppo__2 because it doesn't have the necessary data.\n",
      "Skipping run Reacher-v4__apt_ppo__3 because it doesn't have the necessary data.\n"
     ]
    },
    {
     "name": "stderr",
     "output_type": "stream",
     "text": [
      "\u001b[34m\u001b[1mwandb\u001b[0m: \u001b[33mWARNING\u001b[0m A graphql request initiated by the public wandb API timed out (timeout=9 sec). Create a new API with an integer timeout larger than 9, e.g., `api = wandb.Api(timeout=19)` to increase the graphql timeout.\n"
     ]
    },
    {
     "name": "stdout",
     "output_type": "stream",
     "text": [
      "Skipping run Reacher-v4__apt_ppo__5 because it doesn't have the necessary data.\n",
      "Skipping run Reacher-v4__apt_ppo__4 because it doesn't have the necessary data.\n",
      "Skipping run Reacher-v4__apt_ppo__1 because it doesn't have the necessary data.\n",
      "Skipping run Reacher-v4__apt_ppo__2 because it doesn't have the necessary data.\n",
      "Skipping run Reacher-v4__apt_ppo__3 because it doesn't have the necessary data.\n",
      "Skipping run DMCS-Finger-v0__apt_ppo__2 because it doesn't have the necessary data.\n",
      "Skipping run DMCS-Finger-v0__apt_ppo__1 because it doesn't have the necessary data.\n",
      "Skipping run DMCS-Finger-v0__apt_ppo__3 because it doesn't have the necessary data.\n",
      "Skipping run DMCS-Finger-v0__apt_ppo__4 because it doesn't have the necessary data.Skipping run DMCS-Finger-v0__apt_ppo__5 because it doesn't have the necessary data.\n",
      "Skipping run DMCS-Ball-in-cup-v0__apt_ppo__2 because it doesn't have the necessary data.Skipping run DMCS-Ball-in-cup-v0__apt_ppo__5 because it doesn't have the necessary data.\n",
      "Skipping run DMCS-Ball-in-cup-v0__apt_ppo__4 because it doesn't have the necessary data.Skipping run DMCS-Ball-in-cup-v0__apt_ppo__3 because it doesn't have the necessary data.\n",
      "Skipping run DMCS-Ball-in-cup-v0__apt_ppo__1 because it doesn't have the necessary data.\n",
      "Skipping run DMCS-Cart-k-Pole-v0__apt_ppo__2 because it doesn't have the necessary data.\n",
      "Skipping run DMCS-Finger-v0__apt_ppo__3 because it doesn't have the necessary data.\n",
      "Skipping run DMCS-Cart-k-Pole-v0__apt_ppo__4 because it doesn't have the necessary data.\n",
      "Skipping run DMCS-Finger-v0__apt_ppo__2 because it doesn't have the necessary data.\n",
      "Skipping run DMCS-Finger-v0__apt_ppo__1 because it doesn't have the necessary data.\n",
      "Skipping run DMCS-Finger-v0__apt_ppo__4 because it doesn't have the necessary data.\n",
      "Skipping run DMCS-Cart-k-Pole-v0__apt_ppo__3 because it doesn't have the necessary data.\n",
      "Skipping run DMCS-Ball-in-cup-v0__apt_ppo__2 because it doesn't have the necessary data.\n",
      "Skipping run DMCS-Finger-v0__apt_ppo__5 because it doesn't have the necessary data.\n",
      "Skipping run DMCS-Cart-k-Pole-v0__apt_ppo__1 because it doesn't have the necessary data.\n",
      "Skipping run DMCS-Ball-in-cup-v0__apt_ppo__5 because it doesn't have the necessary data.\n",
      "Skipping run DMCS-Ball-in-cup-v0__apt_ppo__4 because it doesn't have the necessary data.\n",
      "Skipping run DMCS-Ball-in-cup-v0__apt_ppo__3 because it doesn't have the necessary data.\n",
      "Skipping run DMCS-Cart-k-Pole-v0__apt_ppo__5 because it doesn't have the necessary data.\n",
      "Skipping run DMCS-Cart-k-Pole-v0__apt_ppo__2 because it doesn't have the necessary data.\n",
      "Skipping run DMCS-Ball-in-cup-v0__apt_ppo__1 because it doesn't have the necessary data.\n",
      "Skipping run DMCS-Acrobot-v0__apt_ppo__3 because it doesn't have the necessary data.\n",
      "Skipping run DMCS-Cart-k-Pole-v0__apt_ppo__4 because it doesn't have the necessary data.\n",
      "Skipping run DMCS-Cart-k-Pole-v0__apt_ppo__3 because it doesn't have the necessary data.\n",
      "Skipping run DMCS-Acrobot-v0__apt_ppo__5 because it doesn't have the necessary data.\n",
      "Skipping run DMCS-Acrobot-v0__apt_ppo__1 because it doesn't have the necessary data.\n",
      "Skipping run DMCS-Cart-k-Pole-v0__apt_ppo__5 because it doesn't have the necessary data.\n",
      "Skipping run DMCS-Cart-k-Pole-v0__apt_ppo__1 because it doesn't have the necessary data.\n",
      "Skipping run DMCS-Acrobot-v0__apt_ppo__4 because it doesn't have the necessary data.\n",
      "Skipping run DMCS-Acrobot-v0__apt_ppo__3 because it doesn't have the necessary data.\n",
      "Skipping run DMCS-Acrobot-v0__apt_ppo__2 because it doesn't have the necessary data.Skipping run DMCS-Acrobot-v0__apt_ppo__1 because it doesn't have the necessary data.\n",
      "Skipping run DMCS-Acrobot-v0__apt_ppo__5 because it doesn't have the necessary data.\n",
      "Skipping run DMCS-Acrobot-v0__apt_ppo__2 because it doesn't have the necessary data.\n",
      "Skipping run DMCS-Acrobot-v0__apt_ppo__4 because it doesn't have the necessary data.\n"
     ]
    }
   ],
   "source": [
    "from envs.config_env import config as config_env\n",
    "\n",
    "def process_run(run, \n",
    "                metrics = {\n",
    "                            \"config\": [\"exp_name\", \"env_id\", \"seed\", \"keep_extrinsic_reward\", \"beta_ratio\", \"use_sigmoid\", \"feature_extractor\"],\n",
    "                            \"history\": [\"specific/episodic_return\", \"specific/coverage\", \"specific/shanon_entropy\", \"global_step\"],\n",
    "                            \"summary\": [\"specific/episodic_return\", \"specific/coverage\", \"specific/shanon_entropy\", \"global_step\"]\n",
    "                },\n",
    "                config_env=config_env):\n",
    "    # Vérification de l'état du run\n",
    "    # if run.state != \"finished\":\n",
    "    #     # print(f\"Skipping run {run.name} because it is not finished.\")\n",
    "    #     return None\n",
    "    ##### CONFIGURATION #####\n",
    "    config = run.config\n",
    "    config_metrics = {key: None for key in metrics['config']}\n",
    "    for key in config_metrics.keys():\n",
    "        try:\n",
    "            config_metrics[key] = config.get(key)\n",
    "        except:\n",
    "            print(f\"Skipping run {run.name} because it doesn't have the necessary data.\")\n",
    "            return None\n",
    "        \n",
    "    ##### HISTORY #####\n",
    "    history = run.history()\n",
    "    history_metrics = {key: None for key in metrics['history']}\n",
    "    for key in history_metrics.keys():\n",
    "        if key in history.columns:\n",
    "            history_metrics[key] = history[key]\n",
    "        else:\n",
    "            print(f\"Skipping run {run.name} because it doesn't have the necessary data.\")\n",
    "            return None\n",
    "\n",
    "    ##### SUMMARY #####\n",
    "    summary_metrics = {key: None for key in metrics['summary']}\n",
    "    for key in summary_metrics.keys():\n",
    "        if key in run.summary:\n",
    "            summary_metrics[key] = run.summary[key]\n",
    "        else:\n",
    "            print(f\"Skipping run {run.name} because it doesn't have the necessary data.\")\n",
    "            return None\n",
    "        \n",
    "    # Check env id \n",
    "    type_id = config_env[run.config.get('env_id')]['type_id']\n",
    "    return {\n",
    "        'exp_name': config_metrics['exp_name'],\n",
    "        'env_name': config_metrics['env_id'],\n",
    "        'type_id': type_id,\n",
    "        'seed': config_metrics['seed'],\n",
    "        'data': {\n",
    "            'summary_metrics': summary_metrics,\n",
    "            'history_metrics': history_metrics,\n",
    "            'config_metrics': config_metrics,\n",
    "            'config': config\n",
    "        }\n",
    "    }\n",
    "\n",
    "experiments_data = {}\n",
    "max_workers = 2\n",
    "# Utilisation de ThreadPoolExecutor pour paralléliser les exécutions de runs\n",
    "# Spécifiez le nombre de threads avec max_workers, par exemple 4 threads\n",
    "with concurrent.futures.ThreadPoolExecutor(max_workers=max_workers) as executor:\n",
    "    futures = {executor.submit(process_run, run) for run in runs}\n",
    "    for future in tqdm(concurrent.futures.as_completed(futures), total=len(futures), desc=\"Processing runs\"):\n",
    "        result = future.result()\n",
    "        if result is not None:\n",
    "            exp_name = result['exp_name']\n",
    "            env_name = result['env_name']\n",
    "            type_id = result['type_id']\n",
    "            seed = result['seed']\n",
    "            data = result['data']\n",
    "            if exp_name not in experiments_data:\n",
    "                experiments_data[exp_name] = {}\n",
    "            if type_id not in experiments_data[exp_name]:\n",
    "                experiments_data[exp_name][type_id] = {}\n",
    "            if env_name not in experiments_data[exp_name][type_id]:\n",
    "                experiments_data[exp_name][type_id][env_name] = {}\n",
    "            if seed not in experiments_data[exp_name][type_id][env_name]:\n",
    "                experiments_data[exp_name][type_id][env_name][seed] = data"
   ]
  },
  {
   "cell_type": "markdown",
   "metadata": {},
   "source": [
    "#### Check data"
   ]
  },
  {
   "cell_type": "code",
   "execution_count": 30,
   "metadata": {},
   "outputs": [
    {
     "data": {
      "text/plain": [
       "0             NaN\n",
       "1             NaN\n",
       "2     -644.028198\n",
       "3     -485.806061\n",
       "4     -561.165405\n",
       "          ...    \n",
       "495           NaN\n",
       "496   -481.006317\n",
       "497           NaN\n",
       "498   -460.569122\n",
       "499   -488.707458\n",
       "Name: specific/episodic_return, Length: 500, dtype: float64"
      ]
     },
     "execution_count": 30,
     "metadata": {},
     "output_type": "execute_result"
    }
   ],
   "source": [
    "experiments_data['apt_ppo']['mujoco']['HalfCheetah-v3'][3]['history_metrics']['specific/episodic_return']\n",
    "# # check nan in data\n",
    "# is_nan = experiments_data['apt_ppo']['mujoco']['HalfCheetah-v3'][3]['history_metrics']['specific/episodic_return'].isnull().values.any()\n",
    "# print(is_nan)"
   ]
  },
  {
   "cell_type": "markdown",
   "metadata": {},
   "source": [
    "### Learning Curve"
   ]
  },
  {
   "cell_type": "markdown",
   "metadata": {},
   "source": [
    "#### Change name"
   ]
  },
  {
   "cell_type": "code",
   "execution_count": 14,
   "metadata": {},
   "outputs": [],
   "source": [
    "def traductor_exp(exp_name:str):\n",
    "    # split name by _\n",
    "    list_words = exp_name.split(\"_\")\n",
    "    if 'v1' in list_words: \n",
    "        if 'kl' in list_words:\n",
    "            name = \"V1KL\"\n",
    "        elif 'lipshitz' in list_words:\n",
    "            name = \"V1W\"\n",
    "    elif 'v2' in list_words:\n",
    "        if 'kl' in list_words:\n",
    "            name = \"V2KL\"\n",
    "        elif 'lipshitz' in list_words:\n",
    "            name = \"V2W\"\n",
    "    else:\n",
    "        # remove _ppo at the end\n",
    "        name = list_words[0]\n",
    "    # Upper case\n",
    "    name = name.upper()\n",
    "    return name\n"
   ]
  },
  {
   "cell_type": "markdown",
   "metadata": {},
   "source": [
    "##### list "
   ]
  },
  {
   "cell_type": "code",
   "execution_count": 20,
   "metadata": {},
   "outputs": [
    {
     "name": "stdout",
     "output_type": "stream",
     "text": [
      "['ppo', 'rnd_ppo', 'ngu_ppo', 'icm_ppo', 'aux_ppo', 'apt_ppo']\n",
      "['robotics', 'dmcs', 'mujoco']\n",
      "['FetchSlide-v2', 'FetchReach-v1', 'FetchPush-v2', 'DMCS-Ball-in-cup-v0', 'DMCS-Cart-k-Pole-v0', 'DMCS-Acrobot-v0', 'DMCS-Finger-v0', 'DMCS-Fish-v0', 'HalfCheetah-v3', 'Hopper-v3', 'Ant-v3', 'Walker2d-v3', 'Humanoid-v3', 'HumanoidStandup-v4', 'Reacher-v4', 'Swimmer-v3']\n"
     ]
    }
   ],
   "source": [
    "# algo\n",
    "list_algos = list(experiments_data.keys())\n",
    "# type\n",
    "list_type = list(experiments_data[list_algos[0]].keys())\n",
    "# env\n",
    "list_env = []\n",
    "for i in range(len(list_type)):\n",
    "    list_env += list(list(experiments_data[list_algos[0]][list_type[i]].keys()))\n",
    "\n",
    "print(list_algos)\n",
    "print(list_type)\n",
    "print(list_env)"
   ]
  },
  {
   "cell_type": "code",
   "execution_count": null,
   "metadata": {},
   "outputs": [],
   "source": [
    "import pandas as pd\n",
    "import numpy as np\n",
    "import os\n",
    "from tabulate import tabulate\n",
    "\n",
    "def concat_time_serie(experiments_data, \n",
    "                        keys=['specific/coverage', 'specific/coverage_mu', 'specific/shanon_entropy', 'specific/shannon_entropy_mu'], \n",
    "                        type_id_default = None, \n",
    "                        env_name_default = None):\n",
    "    key_data = {}\n",
    "    for exp_name in experiments_data.keys():\n",
    "        for type_id in experiments_data[exp_name].keys():\n",
    "            if type_id_default is not None and type_id not in type_id_default:\n",
    "                continue\n",
    "            for env_name in experiments_data[exp_name][type_id].keys():\n",
    "                if env_name_default is not None and env_name not in env_name_default:\n",
    "                    continue\n",
    "                for seed in experiments_data[exp_name][type_id][env_name].keys():\n",
    "                    run_data = experiments_data[exp_name][type_id][env_name][seed]\n",
    "                    for key in keys:\n",
    "                        if key not in key_data:\n",
    "                            key_data[key] = []\n",
    "                        metric = run_data['history_metrics'][key]\n",
    "                        key_data[key].append({\n",
    "                            'exp_name': traductor_exp(exp_name),\n",
    "                            'env_name': env_name,\n",
    "                            'seed': seed,\n",
    "                            key: metric\n",
    "                        })\n",
    "    key_df = {}\n",
    "    for key in keys:\n",
    "        key_df[key] = pd.DataFrame(key_data[key])\n",
    "    return key_df \n",
    "\n",
    "key_df = concat_time_serie(experiments_data, type_id_default=[type_id], env_name_default=list(experiments_data[list_algos[0]][type_id].keys()))"
   ]
  }
 ],
 "metadata": {
  "kernelspec": {
   "display_name": "contrastive-exploration-l2RpiOU3-py3.12",
   "language": "python",
   "name": "python3"
  },
  "language_info": {
   "codemirror_mode": {
    "name": "ipython",
    "version": 3
   },
   "file_extension": ".py",
   "mimetype": "text/x-python",
   "name": "python",
   "nbconvert_exporter": "python",
   "pygments_lexer": "ipython3",
   "version": "3.9.19"
  }
 },
 "nbformat": 4,
 "nbformat_minor": 2
}
