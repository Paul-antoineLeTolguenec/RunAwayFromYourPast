{
 "cells": [
  {
   "cell_type": "code",
   "execution_count": null,
   "metadata": {},
   "outputs": [],
   "source": [
    "import wandb\n",
    "import pandas as pd\n",
    "import matplotlib.pyplot as plt\n",
    "import seaborn as sns\n",
    "import numpy as np\n",
    "import concurrent.futures\n",
    "from tqdm.notebook import tqdm\n",
    "\n",
    "\n",
    "# Authenticate with W&B\n",
    "wandb.login(timeout=128)\n",
    "\n",
    "# Configure project and other parameters if necessary\n",
    "project_name = \"contrastive_exploration\"\n",
    "entity = \"pletctj6\"\n",
    "\n",
    "# Retrieve the runs from the project\n",
    "api = wandb.Api()\n",
    "runs = api.runs(f\"{entity}/{project_name}\")\n",
    "\n",
    "# Initialize a list to store coverage and shannon entropy data\n",
    "experiments_data = {}"
   ]
  }
 ],
 "metadata": {
  "language_info": {
   "name": "python"
  }
 },
 "nbformat": 4,
 "nbformat_minor": 2
}
