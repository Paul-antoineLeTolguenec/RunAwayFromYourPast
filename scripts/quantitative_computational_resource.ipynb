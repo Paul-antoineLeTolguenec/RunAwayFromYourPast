{
 "cells": [
  {
   "cell_type": "code",
   "execution_count": 1,
   "metadata": {},
   "outputs": [
    {
     "name": "stderr",
     "output_type": "stream",
     "text": [
      "Failed to detect the name of this notebook, you can set it manually with the WANDB_NOTEBOOK_NAME environment variable to enable code saving.\n",
      "\u001b[34m\u001b[1mwandb\u001b[0m: Currently logged in as: \u001b[33mpletctj6\u001b[0m. Use \u001b[1m`wandb login --relogin`\u001b[0m to force relogin\n"
     ]
    }
   ],
   "source": [
    "import wandb\n",
    "import pandas as pd\n",
    "import matplotlib.pyplot as plt\n",
    "import seaborn as sns\n",
    "import numpy as np\n",
    "import concurrent.futures\n",
    "from tqdm.notebook import tqdm\n",
    "\n",
    "\n",
    "# Authenticate with W&B\n",
    "wandb.login(timeout=128)\n",
    "\n",
    "# Configure project and other parameters if necessary\n",
    "project_name = \"run_away_sac_explore\"\n",
    "entity = \"pletctj6\"\n",
    "\n",
    "# Retrieve the runs from the project\n",
    "api = wandb.Api()\n",
    "runs = api.runs(f\"{entity}/{project_name}\")\n",
    "\n",
    "# Initialize a list to store coverage and shannon entropy data\n",
    "experiments_data = {}"
   ]
  },
  {
   "cell_type": "markdown",
   "metadata": {},
   "source": [
    "### Check runs"
   ]
  },
  {
   "cell_type": "code",
   "execution_count": 2,
   "metadata": {},
   "outputs": [
    {
     "name": "stdout",
     "output_type": "stream",
     "text": [
      "status: finished\n",
      "system.cpu.60.cpu_percent\n",
      "system.cpu.52.cpu_percent\n",
      "system.cpu.42.cpu_percent\n",
      "system.cpu.22.cpu_percent\n",
      "system.cpu.9.cpu_percent\n",
      "system.cpu.37.cpu_percent\n",
      "system.cpu.1.cpu_percent\n",
      "system.cpu.49.cpu_percent\n",
      "system.cpu.67.cpu_percent\n",
      "system.cpu.7.cpu_percent\n",
      "system.cpu.47.cpu_percent\n",
      "system.cpu.21.cpu_percent\n",
      "system.cpu.53.cpu_percent\n",
      "system.cpu.32.cpu_percent\n",
      "system.cpu.23.cpu_percent\n",
      "system.cpu.35.cpu_percent\n",
      "system.cpu.16.cpu_percent\n",
      "system.cpu.27.cpu_percent\n",
      "system.cpu.51.cpu_percent\n",
      "system.cpu.29.cpu_percent\n",
      "system.cpu.33.cpu_percent\n",
      "system.cpu.70.cpu_percent\n",
      "system.cpu.34.cpu_percent\n",
      "system.cpu.25.cpu_percent\n",
      "system.cpu.26.cpu_percent\n",
      "system.cpu.6.cpu_percent\n",
      "system.cpu.61.cpu_percent\n",
      "system.cpu.54.cpu_percent\n",
      "system.cpu.62.cpu_percent\n",
      "system.cpu.36.cpu_percent\n",
      "system.cpu.46.cpu_percent\n",
      "system.cpu.24.cpu_percent\n",
      "system.cpu.48.cpu_percent\n",
      "system.cpu.56.cpu_percent\n",
      "system.cpu.11.cpu_percent\n",
      "system.cpu.3.cpu_percent\n",
      "system.cpu.15.cpu_percent\n",
      "system.cpu.4.cpu_percent\n",
      "system.cpu.50.cpu_percent\n",
      "system.cpu.12.cpu_percent\n",
      "system.cpu.65.cpu_percent\n",
      "system.cpu.40.cpu_percent\n",
      "system.cpu.43.cpu_percent\n",
      "system.cpu.44.cpu_percent\n",
      "system.cpu.2.cpu_percent\n",
      "system.cpu.68.cpu_percent\n",
      "system.cpu.5.cpu_percent\n",
      "system.cpu.28.cpu_percent\n",
      "system.cpu.45.cpu_percent\n",
      "system.cpu.20.cpu_percent\n",
      "system.cpu.0.cpu_percent\n",
      "system.cpu.19.cpu_percent\n",
      "system.cpu.13.cpu_percent\n",
      "system.cpu.39.cpu_percent\n",
      "system.cpu.41.cpu_percent\n",
      "system.cpu.66.cpu_percent\n",
      "system.cpu.63.cpu_percent\n",
      "system.cpu.31.cpu_percent\n",
      "system.cpu.10.cpu_percent\n",
      "system.cpu.58.cpu_percent\n",
      "system.cpu.64.cpu_percent\n",
      "system.cpu.57.cpu_percent\n",
      "system.cpu.69.cpu_percent\n",
      "system.cpu.55.cpu_percent\n",
      "system.cpu.8.cpu_percent\n",
      "system.cpu.59.cpu_percent\n",
      "system.cpu.38.cpu_percent\n",
      "system.cpu.18.cpu_percent\n",
      "system.cpu.71.cpu_percent\n",
      "system.cpu.17.cpu_percent\n",
      "system.cpu.14.cpu_percent\n",
      "system.cpu.30.cpu_percent\n"
     ]
    }
   ],
   "source": [
    "run_0 = runs[0]\n",
    "# for run in runs:\n",
    "#     if run.state == \"finished\":\n",
    "#         if run_0 is None:\n",
    "#             run_0 = run\n",
    "#             break\n",
    "print('status:', run_0.state)\n",
    "system_metrics = run_0.history(stream='systemMetrics')\n",
    "for k in system_metrics.keys():\n",
    "    if 'system.cpu.' in k and 'cpu_percent' in k:\n",
    "        print(k)\n",
    "    #     # check all columns of panda series\n",
    "    #     print(system_metrics[k].mean())"
   ]
  },
  {
   "cell_type": "code",
   "execution_count": 3,
   "metadata": {},
   "outputs": [
    {
     "data": {
      "application/vnd.jupyter.widget-view+json": {
       "model_id": "40e49a523f0e42eba084519a4261c159",
       "version_major": 2,
       "version_minor": 0
      },
      "text/plain": [
       "Processing runs:   0%|          | 0/1294 [00:00<?, ?it/s]"
      ]
     },
     "metadata": {},
     "output_type": "display_data"
    }
   ],
   "source": [
    "def process_run(run):\n",
    "    # Vérification de l'état du run\n",
    "    if run.state != \"finished\":\n",
    "        # print(f\"Skipping run {run.name} because it is not finished.\")\n",
    "        return None\n",
    "    # Récupération de la configuration du run\n",
    "    config = run.config\n",
    "    exp_name = config.get('exp_name', 'unknown_exp')\n",
    "    env_name = config.get('env_id', 'unknown_env')\n",
    "    seed = config.get('seed', 'unknown_seed')\n",
    "    system_metrics = run.history(stream='systemMetrics')\n",
    "    cpu_usage_per_cpu = []\n",
    "    # per cpu usage \n",
    "    for k in system_metrics.keys():\n",
    "        if 'system.cpu.' in k and 'cpu_percent' in k:\n",
    "            cpu_usage_per_cpu.append(system_metrics[k].sum()/100.0) #percentage to ratio\n",
    "    mean_cpu_usage = np.mean(cpu_usage_per_cpu)\n",
    "    \n",
    "\n",
    "    # Retour des données structurées\n",
    "    return {\n",
    "        'exp_name': exp_name,\n",
    "        'env_name': env_name,\n",
    "        'seed': seed,\n",
    "        'data': {\n",
    "            \"cpu_usage\": mean_cpu_usage,\n",
    "            'config': config\n",
    "        }\n",
    "    }\n",
    "\n",
    "experiments_data = {}\n",
    "max_workers = 8\n",
    "# Utilisation de ThreadPoolExecutor pour paralléliser les exécutions de runs\n",
    "# Spécifiez le nombre de threads avec max_workers, par exemple 4 threads\n",
    "with concurrent.futures.ThreadPoolExecutor(max_workers=max_workers) as executor:\n",
    "    futures = {executor.submit(process_run, run): run for run in runs}\n",
    "    for future in tqdm(concurrent.futures.as_completed(futures), total=len(futures), desc=\"Processing runs\"):\n",
    "        result = future.result()\n",
    "        if result is not None:\n",
    "            exp_name = result['exp_name']\n",
    "            env_name = result['env_name']\n",
    "            seed = result['seed']\n",
    "            data = result['data']\n",
    "\n",
    "            if exp_name not in experiments_data:\n",
    "                experiments_data[exp_name] = {}\n",
    "            if env_name not in experiments_data[exp_name]:\n",
    "                experiments_data[exp_name][env_name] = {}\n",
    "            if seed not in experiments_data[exp_name][env_name]:\n",
    "                experiments_data[exp_name][env_name][seed] = data"
   ]
  },
  {
   "cell_type": "markdown",
   "metadata": {},
   "source": [
    "## Check experiments data "
   ]
  },
  {
   "cell_type": "code",
   "execution_count": 5,
   "metadata": {},
   "outputs": [
    {
     "name": "stdout",
     "output_type": "stream",
     "text": [
      "dict_keys(['sac_vanilla', 'rnd_sac', 'ngu_sac', 'icm_sac', 'v2wsac', 'diayn_sac', 'smm_sac', 'lsd_sac', 'aux_sac', 'metra_sac', 'v2klsac', 'apt_sac', 'v1klsac', 'csd_sac', 'v1wsac'])\n"
     ]
    }
   ],
   "source": [
    "print(experiments_data.keys())\n",
    "# print(experiments_data['metra_ppo']['HalfCheetah-v3'][1]['cpu_usage'])"
   ]
  },
  {
   "cell_type": "markdown",
   "metadata": {},
   "source": [
    "## Process"
   ]
  },
  {
   "cell_type": "code",
   "execution_count": 6,
   "metadata": {},
   "outputs": [],
   "source": [
    "def process_data(experiments_data):\n",
    "    mean_cpu_usage_per_exp = {}\n",
    "    std_cpu_usage_per_exp = {}\n",
    "    for exp_name in experiments_data:\n",
    "        cpu_usage_per_env = []\n",
    "        for env_name in experiments_data[exp_name]:\n",
    "            cpu_usage_per_seed = []\n",
    "            for seed in experiments_data[exp_name][env_name]:\n",
    "                cpu_usage_seed= experiments_data[exp_name][env_name][seed]['cpu_usage']\n",
    "                cpu_usage_per_seed.append(cpu_usage_seed)\n",
    "            cpu_usage_per_env.append(np.mean(cpu_usage_per_seed))\n",
    "        mean_cpu_usage_per_exp[exp_name] = np.mean(cpu_usage_per_env)\n",
    "        std_cpu_usage_per_exp[exp_name] = np.std(cpu_usage_per_env)\n",
    "    # min max normalization\n",
    "    max_cpu = max(mean_cpu_usage_per_exp.values())\n",
    "    min_cpu = min(mean_cpu_usage_per_exp.values())\n",
    "    for exp_name in mean_cpu_usage_per_exp.keys():\n",
    "        mean_cpu_usage_per_exp[exp_name] = (mean_cpu_usage_per_exp[exp_name] - min_cpu)/(max_cpu - min_cpu)*100.0\n",
    "    return mean_cpu_usage_per_exp, std_cpu_usage_per_exp\n",
    "                \n",
    "\n",
    "\n",
    "\n",
    "# Créer le DataFrame\n",
    "mean_cpu_usage_per_exp, std_cpu_usage_per_exp = process_data(experiments_data)\n",
    "\n",
    "\n"
   ]
  },
  {
   "cell_type": "code",
   "execution_count": null,
   "metadata": {},
   "outputs": [],
   "source": [
    "# remove ppo \n",
    "mean_cpu_usage_per_exp.pop('ppo')\n",
    "std_cpu_usage_per_exp.pop('ppo')"
   ]
  },
  {
   "cell_type": "markdown",
   "metadata": {},
   "source": [
    "## Plot "
   ]
  },
  {
   "cell_type": "code",
   "execution_count": null,
   "metadata": {},
   "outputs": [],
   "source": [
    "# histogram : axis : algo, value : cpu usage +/- std\n",
    "df = pd.DataFrame.from_dict(mean_cpu_usage_per_exp, orient='index', columns=['mean_cpu_usage'])\n",
    "df['std_cpu_usage'] = df.index.map(std_cpu_usage_per_exp)\n",
    "df = df.sort_values(by='mean_cpu_usage', ascending=False)\n",
    "print('df:', df)\n",
    "unique_exp_names = df['mean_cpu_usage'].index\n",
    "palette = plt.get_cmap(\"tab20\").colors\n",
    "color_map = {exp_name: palette[i % len(palette)] for i, exp_name in enumerate(unique_exp_names)}\n",
    "# Plotting\n",
    "plt.figure(figsize=(14, 8))\n",
    "barplot = sns.barplot(x='mean_cpu_usage', y=df.index, data=df, palette=color_map)\n",
    "for i, exp_name in enumerate(unique_exp_names):\n",
    "    barplot.get_children()[i].set_color(color_map[exp_name])\n",
    "# Add error bars with caps\n",
    "plt.errorbar(\n",
    "    x=df['mean_cpu_usage'],\n",
    "    y=np.arange(len(df)),\n",
    "    xerr=df['std_cpu_usage'],\n",
    "    fmt='o',\n",
    "    color='black',\n",
    "    capsize=5  # Add caps to the error bars\n",
    ")\n",
    "plt.errorbar(x=df['mean_cpu_usage'], y=df.index, xerr=df['std_cpu_usage'], fmt='o', color='black')\n",
    "plt.xlabel('Mean CPU Usage (%)')\n",
    "plt.ylabel('Experiment')\n",
    "plt.title('Mean CPU Usage per Experiment')\n",
    "plt.show()\n"
   ]
  }
 ],
 "metadata": {
  "kernelspec": {
   "display_name": "contrastive-exploration-OeYI_S-i-py3.9",
   "language": "python",
   "name": "python3"
  },
  "language_info": {
   "codemirror_mode": {
    "name": "ipython",
    "version": 3
   },
   "file_extension": ".py",
   "mimetype": "text/x-python",
   "name": "python",
   "nbconvert_exporter": "python",
   "pygments_lexer": "ipython3",
   "version": "3.9.2"
  }
 },
 "nbformat": 4,
 "nbformat_minor": 2
}
