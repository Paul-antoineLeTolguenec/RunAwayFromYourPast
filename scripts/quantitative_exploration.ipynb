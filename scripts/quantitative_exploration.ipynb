{
 "cells": [
  {
   "cell_type": "code",
   "execution_count": 2,
   "metadata": {},
   "outputs": [
    {
     "name": "stderr",
     "output_type": "stream",
     "text": [
      "Failed to detect the name of this notebook, you can set it manually with the WANDB_NOTEBOOK_NAME environment variable to enable code saving.\n",
      "\u001b[34m\u001b[1mwandb\u001b[0m: Currently logged in as: \u001b[33mpletctj6\u001b[0m. Use \u001b[1m`wandb login --relogin`\u001b[0m to force relogin\n"
     ]
    }
   ],
   "source": [
    "import wandb\n",
    "import pandas as pd\n",
    "import matplotlib.pyplot as plt\n",
    "import seaborn as sns\n",
    "import numpy as np\n",
    "import concurrent.futures\n",
    "from tqdm.notebook import tqdm\n",
    "\n",
    "\n",
    "# Authenticate with W&B\n",
    "wandb.login(timeout=1024)\n",
    "\n",
    "# Configure project and other parameters if necessary\n",
    "project_name = \"run_away_sac\"\n",
    "entity = \"pletctj6\"\n",
    "\n",
    "# Retrieve the runs from the project\n",
    "api = wandb.Api()\n",
    "runs = api.runs(f\"{entity}/{project_name}\")\n",
    "\n",
    "# Initialize a list to store coverage and shannon entropy data\n",
    "experiments_data = {}\n",
    "nb_max_samples = int(1e6)"
   ]
  },
  {
   "cell_type": "code",
   "execution_count": 3,
   "metadata": {},
   "outputs": [
    {
     "name": "stdout",
     "output_type": "stream",
     "text": [
      "{'charts/SPS': 41, 'charts/coverage': 83.46998346798232, 'losses/actor_loss': -215.0302734375, 'losses/classifier_loss': 0.22959154844284055, 'gif': {'sha256': '87ef3fe700da7af2f9964d6761351bdf66bd4a786775f518352a38e60db435f1', 'path': 'media/images/gif_450000_87ef3fe700da7af2f996.png', 'size': 35861, '_type': 'image-file', 'width': 640, 'format': 'png', 'height': 480}, '_runtime': 11986.719042539597, 'losses/qf1_values': 208.3636932373047, 'metrics/intrinsic_reward_min': -5, 'metrics/intrinsic_reward_mean': -4.441492080688477, '_step': 499999, 'losses/qf_loss': 0.2693904638290405, 'losses/alpha': 0.05, 'losses/qf2_loss': 0.300893634557724, 'losses/qf2_values': 208.46868896484375, 'metrics/rewards_mean': -4.441492080688477, 'charts/episodic_return': -0.005434268154203892, 'metrics/intrinsic_reward_max': 2.6152780055999756, '_wandb': {'runtime': 11986}, '_timestamp': 1723907053.5459645, 'charts/coverage_mu': 4.139997775059922, 'charts/episodic_length': 200, 'charts/shannon_entropy': 6.437538950440793, 'charts/shannon_entropy_mu': 4.812773553877488, 'losses/qf1_loss': 0.23788730800151825, 'losses/alpha_loss': 0}\n"
     ]
    }
   ],
   "source": [
    "run_check = api.run(\"/pletctj6/run_away_sac/runs/u7r0ax4o\")\n",
    "summary_check = run_check.summary._json_dict\n",
    "print(summary_check)\n",
    "# history_test = run_check.history(samples=nb_max_samples, keys=[\"charts/coverage\", \"charts/shannon_entropy\"], x_axis=\"_step\", pandas=(True), stream=\"default\")\n",
    "# print(history_test['charts/coverage'])\n",
    "# history_test = runs[0].history(samples=nb_max_samples, keys=[\"charts/coverage\", \"charts/shannon_entropy\"], x_axis=\"_step\", pandas=(True), stream=\"default\")\n",
    "# print(history_test['charts/coverage'])\n",
    "# len(runs)"
   ]
  },
  {
   "cell_type": "markdown",
   "metadata": {},
   "source": [
    "### Downloading the data\n",
    "\n",
    "* config : config for the run\n",
    "* history : Time evolution of all the data recorded during the run as columns in a pandas dataframe\n",
    "* summary : last sample of the data recorded"
   ]
  },
  {
   "cell_type": "code",
   "execution_count": 3,
   "metadata": {},
   "outputs": [
    {
     "data": {
      "application/vnd.jupyter.widget-view+json": {
       "model_id": "b85f9f3669994c3eac62abe90a0d0e71",
       "version_major": 2,
       "version_minor": 0
      },
      "text/plain": [
       "Processing runs:   0%|          | 0/139 [00:00<?, ?it/s]"
      ]
     },
     "metadata": {},
     "output_type": "display_data"
    }
   ],
   "source": [
    "from envs.config_env import config as config_env\n",
    "\n",
    "def process_run(run, \n",
    "                metrics = {\n",
    "                            \"config\": [\"exp_name\", \"env_id\", \"seed\", \"keep_extrinsic_reward\", \"beta_ratio\", \"name\"],\n",
    "                            \"history\": [\"charts/shannon_entropy\", \"charts/coverage\",  \"_step\"],\n",
    "                            \"summary\": [\"charts/shannon_entropy\", \"charts/coverage\",  \"_step\"]\n",
    "                },\n",
    "                config_env=config_env):\n",
    "    # Vérification de l'état du run\n",
    "    # if run.state != \"finished\":\n",
    "    #     # print(f\"Skipping run {run.name} because it is not finished.\")\n",
    "    #     return None\n",
    "    ##### CONFIGURATION #####\n",
    "    config = run.config\n",
    "    config_metrics = {key: None for key in metrics['config']}\n",
    "    for key in config_metrics.keys():\n",
    "        try:\n",
    "            config_metrics[key] = config.get(key)\n",
    "        except:\n",
    "            print(f\"Skipping run {run.name} because it doesn't have the data {key} in config.\")\n",
    "            return None\n",
    "        \n",
    "    ##### HISTORY #####\n",
    "    history_metrics_full = run.history(samples=nb_max_samples, keys=metrics['history'], x_axis=\"_step\", pandas=(True), stream=\"default\")\n",
    "    history_metrics = {key: None for key in metrics['history']}\n",
    "    for key in history_metrics.keys():\n",
    "        try : \n",
    "            history_metrics[key] = history_metrics_full[key]\n",
    "        except:\n",
    "            print(f\"Skipping run {run.name} because it doesn't have the data {key} in history.\")\n",
    "            return None\n",
    "\n",
    "    ##### SUMMARY #####\n",
    "    summary_metrics = {key: None for key in metrics['summary']}\n",
    "    for key in summary_metrics.keys():\n",
    "        if key in run.summary:\n",
    "            summary_metrics[key] = run.summary._json_dict[key]\n",
    "        else:\n",
    "            summary_metrics[key] = history_metrics[key].iloc[-1]\n",
    "        \n",
    "    # Check env id \n",
    "    type_id = config_env[run.config.get('env_id')]['type_id']\n",
    "    return {\n",
    "        'exp_name': config_metrics['exp_name'],\n",
    "        'env_name': config_metrics['env_id'],\n",
    "        'type_id': type_id,\n",
    "        'seed': config_metrics['seed'],\n",
    "        'data': {\n",
    "            'summary_metrics': summary_metrics,\n",
    "            'history_metrics': history_metrics,\n",
    "            'config_metrics': config_metrics,\n",
    "            'config': config\n",
    "        }\n",
    "    }\n",
    "\n",
    "experiments_data = {}\n",
    "max_workers = 2\n",
    "# Utilisation de ThreadPoolExecutor pour paralléliser les exécutions de runs\n",
    "# Spécifiez le nombre de threads avec max_workers, par exemple 4 threads\n",
    "with concurrent.futures.ThreadPoolExecutor(max_workers=max_workers) as executor:\n",
    "    futures = {executor.submit(process_run, run) for run in runs}\n",
    "    for future in tqdm(concurrent.futures.as_completed(futures), total=len(futures), desc=\"Processing runs\"):\n",
    "        result = future.result()\n",
    "        if result is not None:\n",
    "            exp_name = result['exp_name']\n",
    "            env_name = result['env_name']\n",
    "            type_id = result['type_id']\n",
    "            seed = result['seed']\n",
    "            data = result['data']\n",
    "            if exp_name not in experiments_data:\n",
    "                experiments_data[exp_name] = {}\n",
    "            if type_id not in experiments_data[exp_name]:\n",
    "                experiments_data[exp_name][type_id] = {}\n",
    "            if env_name not in experiments_data[exp_name][type_id]:\n",
    "                experiments_data[exp_name][type_id][env_name] = {}\n",
    "            if seed not in experiments_data[exp_name][type_id][env_name]:\n",
    "                experiments_data[exp_name][type_id][env_name][seed] = data"
   ]
  },
  {
   "cell_type": "code",
   "execution_count": 5,
   "metadata": {},
   "outputs": [
    {
     "name": "stdout",
     "output_type": "stream",
     "text": [
      "{'charts/shannon_entropy': 5.959531951874246, 'charts/coverage': 11.529999522319919, '_step': 898000}\n"
     ]
    }
   ],
   "source": [
    "print(experiments_data['v2klsac']['mujoco']['Swimmer-v3'][0]['summary_metrics'])"
   ]
  },
  {
   "cell_type": "markdown",
   "metadata": {},
   "source": [
    "#### Checks"
   ]
  },
  {
   "cell_type": "code",
   "execution_count": 6,
   "metadata": {},
   "outputs": [
    {
     "name": "stdout",
     "output_type": "stream",
     "text": [
      "['v2klsac', 'v1klsac']\n",
      "['mujoco', 'robotics', 'maze']\n",
      "['Swimmer-v3', 'Reacher-v4', 'HumanoidStandup-v4', 'Humanoid-v3', 'Walker2d-v3', 'Ant-v3', 'Hopper-v3', 'HalfCheetah-v3', 'FetchSlide-v2', 'FetchReach-v1', 'FetchPush-v2', 'Maze-Hard-v0', 'Maze-Ur-v0', 'Maze-Easy-v0']\n"
     ]
    }
   ],
   "source": [
    "# algo\n",
    "list_algos = list(experiments_data.keys())\n",
    "# type\n",
    "list_type = list(experiments_data[list_algos[0]].keys())\n",
    "# env\n",
    "list_env = []\n",
    "for i in range(len(list_type)):\n",
    "    list_env += list(list(experiments_data[list_algos[0]][list_type[i]].keys()))\n",
    "\n",
    "print(list_algos)\n",
    "print(list_type)\n",
    "print(list_env)"
   ]
  },
  {
   "cell_type": "markdown",
   "metadata": {},
   "source": [
    "### Traductor utils "
   ]
  },
  {
   "cell_type": "code",
   "execution_count": 7,
   "metadata": {},
   "outputs": [],
   "source": [
    "def traductor_exp(exp_name:str):\n",
    "    # remove sac\n",
    "    name = exp_name.replace(\"sac\", \"\")\n",
    "    # Upper case\n",
    "    name = name.upper()\n",
    "    return name\n"
   ]
  },
  {
   "cell_type": "markdown",
   "metadata": {},
   "source": [
    "### Table final coverage"
   ]
  },
  {
   "cell_type": "code",
   "execution_count": 8,
   "metadata": {},
   "outputs": [
    {
     "name": "stdout",
     "output_type": "stream",
     "text": [
      "charts/coverage mujoco Normalized DataFrame:\n",
      "| exp_name   | Ant-v3         | HalfCheetah-v3   | Hopper-v3       | Humanoid-v3    | HumanoidStandup-v4   | Reacher-v4     | Swimmer-v3     | Walker2d-v3    |\n",
      "|:-----------|:---------------|:-----------------|:----------------|:---------------|:---------------------|:---------------|:---------------|:---------------|\n",
      "| V1KL       | 95.79 +/- 2.28 | 78.14 +/- 7.97   | 76.49 +/- 7.74  | 90.16 +/- 4.28 | 85.8 +/- 5.31        | 97.42 +/- 1.1  | 65.0 +/- 8.88  | 81.94 +/- 7.63 |\n",
      "| V2KL       | 72.41 +/- 8.6  | 71.22 +/- 9.46   | 76.12 +/- 10.06 | 89.06 +/- 3.09 | 73.53 +/- 12.32      | 99.38 +/- 0.27 | 75.68 +/- 8.52 | 65.49 +/- 9.45 |\n",
      "charts/coverage robotics Normalized DataFrame:\n",
      "| exp_name   | FetchPush-v2    | FetchReach-v1   | FetchSlide-v2   |\n",
      "|:-----------|:----------------|:----------------|:----------------|\n",
      "| V1KL       | 48.37 +/- 14.08 | 91.42 +/- 3.77  | 75.86 +/- 9.31  |\n",
      "| V2KL       | 78.05 +/- 6.73  | 71.21 +/- 8.09  | 72.89 +/- 7.52  |\n",
      "charts/coverage maze Normalized DataFrame:\n",
      "| exp_name   | Maze-Easy-v0   | Maze-Hard-v0    | Maze-Ur-v0      |\n",
      "|:-----------|:---------------|:----------------|:----------------|\n",
      "| V1KL       | 95.25 +/- 2.15 | 68.74 +/- 11.71 | 91.74 +/- 7.07  |\n",
      "| V2KL       | 73.59 +/- 7.56 | 57.56 +/- 12.41 | 67.93 +/- 11.07 |\n"
     ]
    }
   ],
   "source": [
    "import pandas as pd\n",
    "import numpy as np\n",
    "import os\n",
    "from tabulate import tabulate\n",
    "\n",
    "def extract_final_values(experiments_data, \n",
    "                        keys=['charts/coverage'],\n",
    "                        type_id_default = None, \n",
    "                        env_name_default = None):\n",
    "    key_data = {}\n",
    "    for exp_name in experiments_data.keys():\n",
    "        for type_id in experiments_data[exp_name].keys():\n",
    "            if type_id_default is not None and type_id not in type_id_default:\n",
    "                continue\n",
    "            for env_name in experiments_data[exp_name][type_id].keys():\n",
    "                if env_name_default is not None and env_name not in env_name_default:\n",
    "                    continue\n",
    "                for seed in experiments_data[exp_name][type_id][env_name].keys():\n",
    "                    run_data = experiments_data[exp_name][type_id][env_name][seed]\n",
    "                    for key in keys:\n",
    "                        if key not in key_data:\n",
    "                            key_data[key] = []\n",
    "                        metric = run_data['summary_metrics'][key]\n",
    "                        key_data[key].append({\n",
    "                            'exp_name': traductor_exp(exp_name),\n",
    "                            'env_name': env_name,\n",
    "                            'seed': seed,\n",
    "                            key: metric\n",
    "                        })\n",
    "    key_df = {}\n",
    "    for key in keys:\n",
    "        key_df[key] = pd.DataFrame(key_data[key])\n",
    "    return key_df \n",
    "\n",
    "# Fonction pour normaliser le coverage par le coverage maximal de l'environnement\n",
    "def normalize(df, key):\n",
    "    normalized_df = df[key].copy()\n",
    "    normalized_df[key+'_max'] = normalized_df.groupby(['exp_name', 'env_name'])[key].transform('max')\n",
    "    normalized_df[key+'_mean'] = normalized_df.groupby(['exp_name', 'env_name'])[key].transform('mean')\n",
    "    normalized_df[key+'_std'] = normalized_df.groupby(['exp_name', 'env_name'])[key].transform('std')\n",
    "    normalized_df[key+'_ste'] = normalized_df.groupby(['exp_name', 'env_name'])[key].transform('sem')\n",
    "    \n",
    "    normalized_df[key+'_normalized_mean'] = (normalized_df[key+'_mean'] / np.abs(normalized_df[key+'_max'])) * 100\n",
    "    normalized_df[key+'_normalized_std'] = (normalized_df[key+'_std'] / np.abs(normalized_df[key+'_max'])) * 100\n",
    "    normalized_df[key+'_normalized_ste'] = (normalized_df[key+'_ste'] / np.abs(normalized_df[key+'_max'])) * 100\n",
    "    \n",
    "    normalized_df = normalized_df[['exp_name', 'env_name', key+'_normalized_mean', key+'_normalized_std', key+'_normalized_ste']].drop_duplicates()\n",
    "    return normalized_df\n",
    "\n",
    "\n",
    "def format_results(df, value_col_mean, value_col_std):\n",
    "    formatted_results = df.pivot(index='exp_name', columns='env_name', values=[value_col_mean, value_col_std])\n",
    "    formatted_results = formatted_results.swaplevel(axis=1).sort_index(axis=1, level=0)\n",
    "    for env in formatted_results.columns.levels[0]:\n",
    "        formatted_results[(env, 'mean +/- std')] = formatted_results[(env, value_col_mean)].round(2).astype(str) + \" +/- \" + formatted_results[(env, value_col_std)].round(2).astype(str)\n",
    "    formatted_results = formatted_results.loc[:, pd.IndexSlice[:, 'mean +/- std']]\n",
    "    formatted_results.columns = formatted_results.columns.droplevel(1)\n",
    "    return formatted_results\n",
    "\n",
    "# def dataframe_to_markdown(df, filename):\n",
    "#     # Apply bold formatting to each row\n",
    "#     # df_bold = df.apply(bold_max_in_row, axis=1)\n",
    "#     # Convert DataFrame to Markdown table format\n",
    "#     markdown_table = tabulate(df, headers='keys', tablefmt='pipe', showindex=True)\n",
    "#     # Save the Markdown table to a file\n",
    "#     filename = filename.replace('/', '_')\n",
    "#     with open(filename, 'w') as f:\n",
    "#         f.write(markdown_table)\n",
    "\n",
    "def dataframe_to_markdown(df, filename):\n",
    "    def bold_max_in_column(df):\n",
    "        df_bold = df.copy()\n",
    "        for col in df.columns:\n",
    "            if col != 'exp_name':\n",
    "                max_value = df[col].apply(lambda x: float(x.split(' +/- ')[0])).max()\n",
    "                df_bold[col] = df[col].apply(lambda x: f\"**{x}**\" if float(x.split(' +/- ')[0]) == max_value else x)\n",
    "        return df_bold\n",
    "    \n",
    "    # Apply bold formatting to each column\n",
    "    df_bold = bold_max_in_column(df)\n",
    "    \n",
    "    # Convert DataFrame to Markdown format\n",
    "    markdown_table = tabulate(df_bold, headers='keys', tablefmt='pipe', showindex=True)\n",
    "    \n",
    "    # Replace '/' in filename\n",
    "    filename = filename.replace('/', '_')\n",
    "    \n",
    "    # Write the Markdown table to a file\n",
    "    with open(filename, 'w') as f:\n",
    "        f.write(markdown_table)\n",
    "\n",
    "def dataframe_to_latex(df, filename='latex_table.txt', save=False):\n",
    "    def bold_max_in_column(df):\n",
    "        df_bold = df.copy()\n",
    "        for col in df.columns:\n",
    "            if col != 'exp_name':\n",
    "                max_value = df[col].apply(lambda x: float(x.split(' +/- ')[0])).max()\n",
    "                df_bold[col] = df[col].apply(lambda x: f\"\\\\textbf{{{x}}}\" if float(x.split(' +/- ')[0]) == max_value else x)\n",
    "        return df_bold\n",
    "    \n",
    "    # Apply bold formatting to each column\n",
    "    df_bold = bold_max_in_column(df)\n",
    "    \n",
    "    # Convert DataFrame to LaTeX format\n",
    "    latex_table = tabulate(df_bold, headers='keys', tablefmt='latex', showindex=True)\n",
    "    \n",
    "    # Correct the LaTeX syntax\n",
    "    latex_table = latex_table.replace(r'\\textbackslash{}', '\\\\').replace(r'\\\\textbf', r'\\textbf').replace(r'\\{', '{').replace(r'\\}', '}')\n",
    "    \n",
    "    # Replace '/' in filename\n",
    "    filename = filename.replace('/', '_')\n",
    "    \n",
    "    if save:\n",
    "        # Delete file if it already exists\n",
    "        if os.path.exists(filename):\n",
    "            os.remove(filename)\n",
    "        with open(filename, 'w') as f:\n",
    "            f.write(latex_table)\n",
    "    \n",
    "    return latex_table\n",
    "\n",
    "\n",
    "\n",
    "# Extraction des valeurs finales\n",
    "for type_id in list_type:\n",
    "    key_df = extract_final_values(experiments_data, type_id_default=[type_id], env_name_default=list(experiments_data[list_algos[0]][type_id].keys()))\n",
    "    for key in key_df.keys():\n",
    "        # coverage normalization \n",
    "        data_normalized_df = normalize(key_df, key)\n",
    "        # # Formater les résultats\n",
    "        data_formatted = format_results(data_normalized_df, key+'_normalized_mean', key+'_normalized_ste')\n",
    "        # # # Enregistrement des DataFrames au format Markdown\n",
    "        # # dataframe_to_markdown(coverage_formatted, 'coverage_normalized.md')\n",
    "        # dataframe_to_markdown(data_formatted, 'shannon_entropy.md')\n",
    "\n",
    "        # # Enregistrement des DataFrames au format LaTeX\n",
    "        dataframe_to_latex(data_formatted, f'{key}_{type_id}_normalized.tex', save=True if 'mu' not in key else False)\n",
    "\n",
    "        # mise en forme en markdown\n",
    "        # dataframe_to_markdown(data_formatted, f'{key}_{type_id}_normalized.md')\n",
    "        # Affichage des résultats\n",
    "        print(key + \" \" + type_id +\" Normalized DataFrame:\")\n",
    "        print(tabulate(data_formatted, headers='keys', tablefmt='pipe', showindex=True))\n",
    "\n"
   ]
  },
  {
   "cell_type": "markdown",
   "metadata": {},
   "source": [
    "### Data cleaning"
   ]
  },
  {
   "cell_type": "code",
   "execution_count": 14,
   "metadata": {},
   "outputs": [
    {
     "data": {
      "application/vnd.jupyter.widget-view+json": {
       "model_id": "b401322b06c847adabc37c86cc04529d",
       "version_major": 2,
       "version_minor": 0
      },
      "text/plain": [
       "Processing runs:   0%|          | 0/139 [00:00<?, ?it/s]"
      ]
     },
     "metadata": {},
     "output_type": "display_data"
    }
   ],
   "source": [
    "\n",
    "\n",
    "# Fonction pour vérifier si une liste est vide\n",
    "def is_not_empty(obj):\n",
    "    if isinstance(obj, pd.Series):\n",
    "        return not obj.empty\n",
    "    return bool(obj)\n",
    "\n",
    "def interpolate_and_fill_single_metric(values, global_steps, max_global_step):\n",
    "    values = values.dropna()\n",
    "    # Créer une série avec des NaNs pour les global_steps manquants\n",
    "    all_steps = np.arange(max_global_step + 1)\n",
    "    series = values.reindex(all_steps).interpolate(method='linear').ffill().bfill()\n",
    "    return series\n",
    "\n",
    "# Convertir le dictionnaire en DataFrame avec calcul des statistiques directement\n",
    "def dict_to_dataframe(experiments_data, data_keys=['charts/coverage', 'charts/shannon_entropy', '_step']):\n",
    "    data_records = []\n",
    "\n",
    "    # Déterminer le global_step maximum pour chaque environnement\n",
    "    max_global_steps = {}\n",
    "    for exp_name in experiments_data.keys():\n",
    "        for type_id in experiments_data[exp_name].keys():\n",
    "            for env_name in experiments_data[exp_name][type_id].keys():\n",
    "                for seed in experiments_data[exp_name][type_id][env_name].keys():\n",
    "                    max_global_step = experiments_data[exp_name][type_id][env_name][seed]['summary_metrics']['_step']\n",
    "                    if env_name not in max_global_steps:\n",
    "                        max_global_steps[env_name] = max_global_step\n",
    "                    else:\n",
    "                        max_global_steps[env_name] = max(max_global_steps[env_name], max_global_step)\n",
    "\n",
    "    # Compter le nombre total de runs pour la barre de progression\n",
    "    total_runs = sum(len(experiments_data[exp_name][type_id][env_name]) for exp_name in experiments_data.keys() for type_id in experiments_data[exp_name].keys() for env_name in experiments_data[exp_name][type_id].keys())\n",
    "\n",
    "    with tqdm(total=total_runs, desc=\"Processing runs\") as pbar:\n",
    "        for exp_name in experiments_data.keys():\n",
    "            for type_id in experiments_data[exp_name].keys():\n",
    "                for env_name in experiments_data[exp_name][type_id].keys():\n",
    "                    max_global_step = max_global_steps[env_name]\n",
    "                    env_records = []\n",
    "                    for seed in experiments_data[exp_name][type_id][env_name].keys():\n",
    "                        data_global_step = experiments_data[exp_name][type_id][env_name][seed]['history_metrics'][\"_step\"]\n",
    "                        for data_key in data_keys:\n",
    "                            data_raw = experiments_data[exp_name][type_id][env_name][seed]['history_metrics'][data_key]\n",
    "                            data_filtered = interpolate_and_fill_single_metric(data_raw, data_global_step, max_global_step)\n",
    "                            temp_df = pd.DataFrame({\n",
    "                                'exp_name': exp_name,\n",
    "                                'env_name': env_name,\n",
    "                                'seed': seed,\n",
    "                                'global_step': data_filtered.index,\n",
    "                                data_key: data_filtered.values\n",
    "                            })\n",
    "                            env_records.append(temp_df)\n",
    "                        pbar.update(1)  # Mise à jour de la barre de progression pour chaque run\n",
    "\n",
    "                    if env_records:\n",
    "                        combined_df = pd.concat(env_records, axis=0)\n",
    "                        summary_df = combined_df.groupby(['exp_name', 'env_name', 'global_step']).agg(\n",
    "                            coverage_mean=('charts/coverage', 'mean'),\n",
    "                            coverage_std=('charts/coverage', 'std'),\n",
    "                            shannon_entropy_mean=('charts/shannon_entropy', 'mean'),\n",
    "                            shannon_entropy_std=('charts/shannon_entropy', 'std')\n",
    "                        ).reset_index()\n",
    "                        data_records.append(summary_df)\n",
    "\n",
    "    final_df = pd.concat(data_records, axis=0)\n",
    "    return final_df\n",
    "\n",
    "# Créer le DataFrame\n",
    "df = dict_to_dataframe(experiments_data)\n",
    "\n"
   ]
  },
  {
   "cell_type": "code",
   "execution_count": 15,
   "metadata": {},
   "outputs": [
    {
     "name": "stdout",
     "output_type": "stream",
     "text": [
      "       exp_name      env_name  global_step  coverage_mean  coverage_std  \\\n",
      "0       v2klsac    Swimmer-v3            0       0.010000      0.000000   \n",
      "1       v2klsac    Swimmer-v3            1       2.593999      0.437927   \n",
      "2       v2klsac    Swimmer-v3            2       3.280000      0.454863   \n",
      "3       v2klsac    Swimmer-v3            3       3.564000      0.356483   \n",
      "4       v2klsac    Swimmer-v3            4       3.782000      0.307522   \n",
      "...         ...           ...          ...            ...           ...   \n",
      "499995  v1klsac  Maze-Easy-v0       499995      87.699982      4.419229   \n",
      "499996  v1klsac  Maze-Easy-v0       499996      87.699982      4.419229   \n",
      "499997  v1klsac  Maze-Easy-v0       499997      87.699982      4.419229   \n",
      "499998  v1klsac  Maze-Easy-v0       499998      87.699982      4.419229   \n",
      "499999  v1klsac  Maze-Easy-v0       499999      87.699982      4.419229   \n",
      "\n",
      "        shannon_entropy_mean  shannon_entropy_std  \n",
      "0              -9.999995e-07             0.000000  \n",
      "1               5.168266e+00             0.161094  \n",
      "2               5.386505e+00             0.130207  \n",
      "3               5.440264e+00             0.089618  \n",
      "4               5.473029e+00             0.078370  \n",
      "...                      ...                  ...  \n",
      "499995          6.626720e+00             0.174218  \n",
      "499996          6.626720e+00             0.174218  \n",
      "499997          6.626720e+00             0.174218  \n",
      "499998          6.626720e+00             0.174218  \n",
      "499999          6.626720e+00             0.174218  \n",
      "\n",
      "[21195900 rows x 7 columns]\n"
     ]
    }
   ],
   "source": [
    "print(df)"
   ]
  },
  {
   "cell_type": "markdown",
   "metadata": {},
   "source": [
    "### Plotting"
   ]
  },
  {
   "cell_type": "code",
   "execution_count": null,
   "metadata": {},
   "outputs": [],
   "source": [
    "\n",
    "# Déterminer les couleurs pour chaque algorithme\n",
    "unique_exp_names = df['exp_name'].unique()\n",
    "print(unique_exp_names)\n",
    "palette = plt.get_cmap(\"tab20\").colors\n",
    "color_map = {exp_name: palette[i % len(palette)] for i, exp_name in enumerate(unique_exp_names)}\n",
    "\n",
    "# Plot pour chaque environnement\n",
    "environments = df['env_name'].unique()\n",
    "\n",
    "for env in environments:\n",
    "    try:\n",
    "        plt.figure(figsize=(12, 8))\n",
    "        env_df = df[df['env_name'] == env]\n",
    "        \n",
    "        sns.set(style=\"whitegrid\")\n",
    "        for exp in env_df['exp_name'].unique():\n",
    "            exp_df = env_df[env_df['exp_name'] == exp]\n",
    "            # print('coverage mean shape', exp_df['coverage_mean'].shape)\n",
    "            color = color_map[exp]\n",
    "            plt.plot(exp_df['global_step'], exp_df['coverage_mean'], label=f'{exp} mean', color=color)\n",
    "            plt.fill_between(exp_df['global_step'], \n",
    "                             exp_df['coverage_mean'] - exp_df['coverage_std'], \n",
    "                             exp_df['coverage_mean'] + exp_df['coverage_std'], \n",
    "                             alpha=0.2, color=color)\n",
    "        \n",
    "        plt.title(f'{env} Coverage')\n",
    "        plt.xlabel('Global Step')\n",
    "        plt.ylabel('Coverage')\n",
    "        plt.legend()\n",
    "        plt.show()\n",
    "    except Exception as e:\n",
    "        print(f\"Failed to plot for environment {env} due to: {e}\")"
   ]
  },
  {
   "cell_type": "markdown",
   "metadata": {},
   "source": [
    "### Test maze plot "
   ]
  },
  {
   "cell_type": "code",
   "execution_count": 23,
   "metadata": {},
   "outputs": [
    {
     "data": {
      "image/png": "[encoded data removed]",
      "text/plain": [
       "<Figure size 1200x800 with 1 Axes>"
      ]
     },
     "metadata": {},
     "output_type": "display_data"
    }
   ],
   "source": [
    "experiments_data['v2klsac']['maze']['Maze-Hard-v0'].keys()\n",
    "# concat df covergae \n",
    "df_coverage = pd.concat([experiments_data['v2klsac']['maze']['Maze-Hard-v0'][seed]['history_metrics']['charts/coverage'] for seed in experiments_data['v2klsac']['maze']['Maze-Hard-v0'].keys()], axis=1)\n",
    "# mean coverage on dim 1\n",
    "df_coverage_mean = df_coverage.mean(axis=1)\n",
    "# standard error coverage on dim 1\n",
    "df_coverage_ste = df_coverage.std(axis=1) / np.sqrt(df_coverage.shape[1])\n",
    "\n",
    "# figure \n",
    "plt.figure(figsize=(12, 8))\n",
    "plt.plot(df_coverage_mean, label='mean')\n",
    "plt.fill_between(df_coverage_mean.index, df_coverage_mean - df_coverage_ste, df_coverage_mean + df_coverage_ste, alpha=0.2)\n",
    "plt.title('Maze-Hard-v0 Coverage')  \n",
    "plt.xlabel('Global Step')\n",
    "plt.ylabel('Coverage')\n",
    "plt.legend()\n",
    "plt.show()\n"
   ]
  }
 ],
 "metadata": {
  "kernelspec": {
   "display_name": "Python 3 (ipykernel)",
   "language": "python",
   "name": "python3"
  },
  "language_info": {
   "codemirror_mode": {
    "name": "ipython",
    "version": 3
   },
   "file_extension": ".py",
   "mimetype": "text/x-python",
   "name": "python",
   "nbconvert_exporter": "python",
   "pygments_lexer": "ipython3",
   "version": "3.10.12"
  }
 },
 "nbformat": 4,
 "nbformat_minor": 2
}
